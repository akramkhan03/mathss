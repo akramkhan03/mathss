{
 "cells": [
  {
   "cell_type": "markdown",
   "id": "07c8c0b2",
   "metadata": {
    "id": "07c8c0b2"
   },
   "source": [
    "\n",
    "### 1. Find the Cartesian Product of the below given sets in the below cell. (In Python Code)\n",
    "\n",
    "A = set(['a','b','c'])\n",
    "\n",
    "S = {1,2,3}\n"
   ]
  },
  {
   "cell_type": "code",
   "execution_count": 1,
   "id": "8b2078fa",
   "metadata": {
    "id": "8b2078fa"
   },
   "outputs": [
    {
     "name": "stdout",
     "output_type": "stream",
     "text": [
      "[('b', 1), ('b', 2), ('b', 3), ('a', 1), ('a', 2), ('a', 3), ('c', 1), ('c', 2), ('c', 3)]\n"
     ]
    }
   ],
   "source": [
    "import itertools\n",
    "\n",
    "A = {'a', 'b', 'c'}\n",
    "S = {1, 2, 3}\n",
    "\n",
    "\n",
    "cartesian_product = list(itertools.product(A, S))\n",
    "print(cartesian_product)\n"
   ]
  },
  {
   "cell_type": "markdown",
   "id": "3d43b9ee",
   "metadata": {
    "id": "3d43b9ee"
   },
   "source": [
    "### 2. Find all the possible permutations and number of permutations of A\n",
    "\n",
    "A = {'Red','Green','Blue'}\n"
   ]
  },
  {
   "cell_type": "code",
   "execution_count": 4,
   "id": "52c18588",
   "metadata": {
    "id": "52c18588"
   },
   "outputs": [
    {
     "name": "stdout",
     "output_type": "stream",
     "text": [
      "[('Red', 'Green', 'Blue'), ('Red', 'Blue', 'Green'), ('Green', 'Red', 'Blue'), ('Green', 'Blue', 'Red'), ('Blue', 'Red', 'Green'), ('Blue', 'Green', 'Red')]\n",
      "6\n"
     ]
    }
   ],
   "source": [
    "from itertools import permutations\n",
    "\n",
    "A = {'Red', 'Green', 'Blue'}\n",
    "permutations_of_A = list(permutations(A))\n",
    "\n",
    "print(permutations_of_A)\n",
    "\n",
    "number_of_permutations = len(permutations_of_A)\n",
    "\n",
    "print(number_of_permutations)\n"
   ]
  },
  {
   "cell_type": "code",
   "execution_count": null,
   "id": "51509b5e",
   "metadata": {
    "id": "51509b5e"
   },
   "outputs": [],
   "source": []
  },
  {
   "cell_type": "markdown",
   "id": "637ffa24",
   "metadata": {
    "id": "637ffa24"
   },
   "source": [
    "### 3. Research Question on Hypothesis Testing\n",
    "\n",
    "In previous years, 52% of parents believed that electronics and social media was the cause of their teenager’s lack of sleep. Do more parents today believe that their teenager’s lack of sleep is caused due to electronics and social media?\n",
    "\n",
    "**Population**: Parents with a teenager (age 13-18)  \n",
    "**Parameter of Interest**: p  \n",
    "\n",
    "**Null Hypothesis:** p = 0.52  \n",
    "**Alternative Hypthosis:** p > 0.52 (note that this is a one-sided test)\n",
    "\n",
    "**Data**: 1018 people were surveyed. 56% of those who were surveyed believe that their teenager’s lack of sleep is caused due to electronics and social media."
   ]
  },
  {
   "cell_type": "markdown",
   "id": "4786f83f",
   "metadata": {
    "id": "4786f83f"
   },
   "source": [
    "### Hint: Use  `proportions_ztest()` from `statsmodels`\n",
    "\n",
    "Note the argument `alternative=\"larger\"` indicating a one-sided test. The function returns two values - the z-statistic and the corresponding p-value."
   ]
  },
  {
   "cell_type": "code",
   "execution_count": 9,
   "id": "475fe79a",
   "metadata": {
    "id": "475fe79a"
   },
   "outputs": [
    {
     "data": {
      "text/plain": [
       "(2.571067795759113, 0.005069273865860533)"
      ]
     },
     "execution_count": 9,
     "metadata": {},
     "output_type": "execute_result"
    }
   ],
   "source": [
    "from statsmodels.stats.proportion import proportions_ztest\n",
    "\n",
    "# Data\n",
    "n = 1018\n",
    "x = 0.56 * n\n",
    "\n",
    "# Hypothesis Testing\n",
    "proportions_ztest(x, n, value=0.52, alternative='larger')\n"
   ]
  },
  {
   "cell_type": "markdown",
   "id": "e64e5437",
   "metadata": {
    "id": "e64e5437"
   },
   "source": [
    "### What is your Conclusion of the hypothesis test\n"
   ]
  },
  {
   "cell_type": "markdown",
   "id": "55df2e47",
   "metadata": {
    "id": "4da83967"
   },
   "source": [
    "since the calculation p-value of the z-test is pretty small,we can recjects the null hypothesis test that the percentages of parents,who belived that lack of sleep is caused due to electronics and social media, is as same as previous estimate i.e 52%."
   ]
  },
  {
   "cell_type": "markdown",
   "id": "fcf62d88",
   "metadata": {
    "id": "4503f17c"
   },
   "source": [
    "### 4. Calculate the set difference between the 2 sets (set1 - multipes of 3 upto a range of 31 and set2 - multiples of 4 upto a range of 31)"
   ]
  },
  {
   "cell_type": "code",
   "execution_count": 1,
   "id": "b10dc469",
   "metadata": {
    "id": "b10dc469"
   },
   "outputs": [
    {
     "name": "stdout",
     "output_type": "stream",
     "text": [
      "{1, 2, 4, 5}\n"
     ]
    }
   ],
   "source": [
    "set1 = {1, 2, 3, 4, 5}\n",
    "multiples_of_3 = set(range(3, 31, 3))\n",
    "set1_difference = set1 - multiples_of_3\n",
    "print(set1_difference)\n"
   ]
  },
  {
   "cell_type": "code",
   "execution_count": 2,
   "id": "5e5692bb",
   "metadata": {},
   "outputs": [
    {
     "name": "stdout",
     "output_type": "stream",
     "text": [
      "{5, 6, 7}\n"
     ]
    }
   ],
   "source": [
    "set2 = {4, 5, 6, 7, 8}\n",
    "multiples_of_4 = set(range(4, 31, 4))\n",
    "set2_difference = set2 - multiples_of_4\n",
    "print(set2_difference)\n"
   ]
  },
  {
   "cell_type": "markdown",
   "id": "796c2e91",
   "metadata": {
    "id": "796c2e91"
   },
   "source": [
    "### 5. Calculate a function to generate random arrays with range of (1,100) and the naive functions to calculate Mean, Varience and Standard deviation for the array generated"
   ]
  },
  {
   "cell_type": "code",
   "execution_count": 8,
   "id": "d9df5a6b",
   "metadata": {
    "id": "d9df5a6b"
   },
   "outputs": [
    {
     "name": "stdout",
     "output_type": "stream",
     "text": [
      "Average of the array elements:\n",
      "-0.04125976417372799\n",
      "Standard deviation of the array elements:\n",
      "0.9997394573489871\n",
      "Variance of the array elements:\n",
      "0.9994789825804471\n"
     ]
    }
   ],
   "source": [
    "import numpy as np\n",
    "\n",
    "\n",
    "x = np.random.randn(1100)\n",
    "\n",
    "# Displaying the average of the array elements\n",
    "print(\"Average of the array elements:\")\n",
    "mean = x.mean()  # Calculating the mean\n",
    "print(mean)\n",
    "\n",
    "# Displaying the standard deviation of the array elements\n",
    "print(\"Standard deviation of the array elements:\")\n",
    "std = x.std()  # Calculating the standard deviation\n",
    "print(std)\n",
    "\n",
    "# Displaying the variance of the array elements\n",
    "print(\"Variance of the array elements:\")\n",
    "var = x.var()  # Calculating the variance\n",
    "print(var) "
   ]
  },
  {
   "cell_type": "code",
   "execution_count": null,
   "id": "e746763d",
   "metadata": {},
   "outputs": [],
   "source": []
  }
 ],
 "metadata": {
  "colab": {
   "provenance": []
  },
  "kernelspec": {
   "display_name": "Python 3 (ipykernel)",
   "language": "python",
   "name": "python3"
  },
  "language_info": {
   "codemirror_mode": {
    "name": "ipython",
    "version": 3
   },
   "file_extension": ".py",
   "mimetype": "text/x-python",
   "name": "python",
   "nbconvert_exporter": "python",
   "pygments_lexer": "ipython3",
   "version": "3.11.4"
  }
 },
 "nbformat": 4,
 "nbformat_minor": 5
}
